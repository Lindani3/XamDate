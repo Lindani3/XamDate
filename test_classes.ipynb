{
 "cells": [
  {
   "cell_type": "code",
   "execution_count": 1,
   "id": "64db576d-4dcb-42d9-b6f4-63a5c9aad15c",
   "metadata": {},
   "outputs": [],
   "source": [
    "from holiday_fetcher import *"
   ]
  },
  {
   "cell_type": "code",
   "execution_count": 2,
   "id": "2c4ac4a6-a6f2-40d7-b89c-4a234ef54d29",
   "metadata": {},
   "outputs": [],
   "source": [
    "#Usage Example:\n",
    "countryCode = \"ZA+US+EG\"\n",
    "\n",
    "startYear = 2020\n",
    "endYear = 2025\n",
    "\n",
    "\n",
    "holiday_fetcher = HolidayFetcher(countryCode, startYear, endYear)\n",
    "holidays_df = holiday_fetcher.getHolidaysData()\n"
   ]
  },
  {
   "cell_type": "code",
   "execution_count": 3,
   "id": "92a9c601-7f8f-4ef0-b5b6-ab0b753e6597",
   "metadata": {},
   "outputs": [],
   "source": [
    "weekend_csv_path = \"countryWeekendTypes.csv\"\n",
    "day_calculations = DayCalculations(holidays_df, weekend_csv_path)\n",
    "\n",
    "start_date = date(2024, 5, 30)\n",
    "end_date = date(2025, 1, 1)"
   ]
  },
  {
   "cell_type": "code",
   "execution_count": 4,
   "id": "2d603ae7-8a46-4a8e-bc7f-77e7d05b3a3d",
   "metadata": {},
   "outputs": [
    {
     "name": "stdout",
     "output_type": "stream",
     "text": [
      "           date              name country_code          local_name\n",
      "185  2024-07-23    Revolution Day           EG   عيد ثورة 23 يوليو\n",
      "186  2024-10-06  Armed Forces Day           EG  عيد القوات المسلحة\n",
      "378  2024-07-23    Revolution Day           EG   عيد ثورة 23 يوليو\n",
      "379  2024-10-06  Armed Forces Day           EG  عيد القوات المسلحة\n"
     ]
    }
   ],
   "source": [
    "# Test Holidays inBetween \n",
    "holidays_between = holiday_fetcher.getHolidaysBetween('EG', start_date, end_date)\n",
    "print(holidays_between)"
   ]
  },
  {
   "cell_type": "code",
   "execution_count": 5,
   "id": "705f6aed-7ded-4de0-96cb-1dd30be04118",
   "metadata": {},
   "outputs": [
    {
     "name": "stdout",
     "output_type": "stream",
     "text": [
      "Is 2024-05-30 a weekend in ZA?: False\n"
     ]
    }
   ],
   "source": [
    "# Test Weekend \n",
    "print(f\"Is {start_date} a weekend in ZA?: {day_calculations.isWeekend('ZA', start_date)}\")"
   ]
  },
  {
   "cell_type": "code",
   "execution_count": 6,
   "id": "5c2cfd5f-8143-472f-83bf-23c81eb4e08b",
   "metadata": {},
   "outputs": [
    {
     "name": "stdout",
     "output_type": "stream",
     "text": [
      "Is 2024-05-30 a business day in ZA?: True\n"
     ]
    }
   ],
   "source": [
    "#Test Business Day \n",
    "print(f\"Is {start_date} a business day in ZA?: {day_calculations.isBusinessDay('EG+ZA+US', start_date)}\")"
   ]
  },
  {
   "cell_type": "code",
   "execution_count": 7,
   "id": "397a1d01-6f3b-4f3e-a031-f4386c845562",
   "metadata": {},
   "outputs": [
    {
     "name": "stdout",
     "output_type": "stream",
     "text": [
      "We add 3 days to 2024-06-28 and we get: 2024-07-03\n"
     ]
    }
   ],
   "source": [
    "# Test if does pick holidays in EG like friday\n",
    "de = date(2024, 6, 28)\n",
    "num = 3\n",
    "print(f\"We add {num} days to {de} and we get: {day_calculations.addBusinessDays('ZA+EG', de,num)}\")"
   ]
  },
  {
   "cell_type": "code",
   "execution_count": 8,
   "id": "da31172c-451a-4372-8b84-53785ad65b1c",
   "metadata": {},
   "outputs": [
    {
     "name": "stdout",
     "output_type": "stream",
     "text": [
      "The last Business day in the day 2024-05-30 and we get: 2024-06-28\n"
     ]
    }
   ],
   "source": [
    "print(f\"The last Business day in the day {start_date} and we get: {day_calculations.getLastBusinessDateInMonth('ZA', de)}\")"
   ]
  },
  {
   "cell_type": "code",
   "execution_count": 9,
   "id": "7d8f8b3c-86cb-4f10-9232-b5322c0fe6d1",
   "metadata": {},
   "outputs": [
    {
     "name": "stdout",
     "output_type": "stream",
     "text": [
      "Is 2024-06-28 the last business day True\n"
     ]
    }
   ],
   "source": [
    "print(f\"Is {de} the last business day {day_calculations.isLastBusinessDayInMonth('ZA', de)}\")"
   ]
  },
  {
   "cell_type": "code",
   "execution_count": null,
   "id": "535c84c5-01ab-4132-8120-5baf5e5fa9df",
   "metadata": {},
   "outputs": [],
   "source": []
  },
  {
   "cell_type": "code",
   "execution_count": 13,
   "id": "6fb60504-4b33-4669-af36-c0639f2eaa27",
   "metadata": {},
   "outputs": [],
   "source": []
  },
  {
   "cell_type": "code",
   "execution_count": 11,
   "id": "f71a22fc-1e6e-4e85-805d-b0e5cc98229a",
   "metadata": {},
   "outputs": [
    {
     "name": "stdout",
     "output_type": "stream",
     "text": [
      "Resulting date: 2024-03-29 00:00:00\n"
     ]
    }
   ],
   "source": [
    "# Call the addTenor function\n",
    "result = day_calculations.addTenor('ZA', datetime(2024, 3, 26), '3d', 'f', True)\n",
    "print(f\"Resulting date: {result}\")"
   ]
  },
  {
   "cell_type": "code",
   "execution_count": 14,
   "id": "de8599de-8c0c-4140-a09f-601d333e32b6",
   "metadata": {},
   "outputs": [
    {
     "name": "stdout",
     "output_type": "stream",
     "text": [
      "0    2025-01-01\n",
      "1    2025-02-15\n",
      "2    2025-03-30\n",
      "dtype: object\n",
      "2025-01-01\n",
      "<class 'datetime.date'>\n"
     ]
    }
   ],
   "source": [
    "import pandas as pd\n",
    "\n",
    "# Sample data: Series with date strings\n",
    "date_strings = pd.Series(['2025-01-01', '2025-02-15', '2025-03-30'])\n",
    "\n",
    "# Convert the Series to datetime objects\n",
    "date_times = pd.to_datetime(date_strings).dt.date\n",
    "\n",
    "# Convert the Series to date objects\n",
    "#dates = date_times\n",
    "\n",
    "# Display the converted Series\n",
    "print(dates)\n",
    "\n",
    "# Print the first element of the converted Series\n",
    "print(dates[0])\n",
    "\n",
    "# Check the type of the first element\n",
    "print(type(dates[0]))  # Output: <class 'datetime.date'>\n"
   ]
  },
  {
   "cell_type": "code",
   "execution_count": null,
   "id": "5d3a0eb6-160d-4335-ad1d-62a869b05ecb",
   "metadata": {},
   "outputs": [],
   "source": []
  },
  {
   "cell_type": "code",
   "execution_count": null,
   "id": "85740768-60a2-4cb4-9c97-7bbae96d19c4",
   "metadata": {},
   "outputs": [],
   "source": []
  },
  {
   "cell_type": "code",
   "execution_count": null,
   "id": "8b7f7f7c-14e3-48d8-b777-ab779db6a9f6",
   "metadata": {},
   "outputs": [],
   "source": []
  }
 ],
 "metadata": {
  "kernelspec": {
   "display_name": "Python 3 (ipykernel)",
   "language": "python",
   "name": "python3"
  },
  "language_info": {
   "codemirror_mode": {
    "name": "ipython",
    "version": 3
   },
   "file_extension": ".py",
   "mimetype": "text/x-python",
   "name": "python",
   "nbconvert_exporter": "python",
   "pygments_lexer": "ipython3",
   "version": "3.11.7"
  }
 },
 "nbformat": 4,
 "nbformat_minor": 5
}
